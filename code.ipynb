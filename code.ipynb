{
 "cells": [
  {
   "cell_type": "code",
   "execution_count": null,
   "metadata": {},
   "outputs": [],
   "source": [
    "# import necessary libraries\n",
    "from data.video import *\n"
   ]
  },
  {
   "cell_type": "markdown",
   "metadata": {},
   "source": [
    "# Data Loading"
   ]
  },
  {
   "cell_type": "code",
   "execution_count": null,
   "metadata": {},
   "outputs": [],
   "source": [
    "# Data Loading"
   ]
  },
  {
   "cell_type": "markdown",
   "metadata": {},
   "source": [
    "# Preprocessing"
   ]
  },
  {
   "cell_type": "code",
   "execution_count": null,
   "metadata": {},
   "outputs": [],
   "source": [
    "#제출용 경로\n",
    "#TRAIN_PATH = '/mnt/elice/dataset/train'\n",
    "#TEST_PATH = '/mnt/elice/dataset/test'\n",
    "\n",
    "TRAIN_PATH = 'C:/Users/Admin/Downloads/참가자용 데이터(학습데이터,설치파일,발표자료)/Train Dataset_비디오 분야 과제/train'\n",
    "#TEST_PATH = '/mnt/elice/dataset/test'\n",
    "TRAIN_PREPROCESSED_PATH = './outputs_train'\n",
    "#TEST_PREPROCESSED_PATH = './outputs_test'"
   ]
  },
  {
   "cell_type": "code",
   "execution_count": null,
   "metadata": {},
   "outputs": [],
   "source": [
    "# preprocess train data\n",
    "process_videos(TRAIN_PATH, TRAIN_PREPROCESSED_PATH, 'train')\n",
    "\n",
    "# preprocess test data\n",
    "#process_videos(TEST_PATH, TEST_PREPROCESSED_PATH, 'test')"
   ]
  },
  {
   "cell_type": "markdown",
   "metadata": {},
   "source": [
    "# Training"
   ]
  },
  {
   "cell_type": "code",
   "execution_count": null,
   "metadata": {},
   "outputs": [],
   "source": []
  },
  {
   "cell_type": "markdown",
   "metadata": {},
   "source": [
    "# Test"
   ]
  }
 ],
 "metadata": {
  "language_info": {
   "name": "python"
  }
 },
 "nbformat": 4,
 "nbformat_minor": 2
}
