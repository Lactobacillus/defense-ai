{
 "cells": [
  {
   "cell_type": "code",
   "execution_count": null,
   "metadata": {},
   "outputs": [],
   "source": [
    "# import necessary libraries and modules\n",
    "from data.video import *\n"
   ]
  },
  {
   "cell_type": "markdown",
   "metadata": {},
   "source": [
    "# Data Loading"
   ]
  },
  {
   "cell_type": "code",
   "execution_count": null,
   "metadata": {},
   "outputs": [],
   "source": [
    "# Data Loading"
   ]
  },
  {
   "cell_type": "markdown",
   "metadata": {},
   "source": [
    "# Preprocessing"
   ]
  },
  {
   "cell_type": "code",
   "execution_count": null,
   "metadata": {},
   "outputs": [],
   "source": [
    "#제출용 경로\n",
    "#TRAIN_PATH = '/mnt/elice/dataset/train'\n",
    "#TEST_PATH = '/mnt/elice/dataset/test'\n",
    "\n",
    "TRAIN_PATH = 'mnt/elice/dataset/train'\n",
    "#TEST_PATH = '/mnt/elice/dataset/test'\n",
    "TRAIN_PREPROCESSED_PATH = './outputs_video'\n",
    "#TEST_PREPROCESSED_PATH = './outputs_test'"
   ]
  },
  {
   "cell_type": "code",
   "execution_count": null,
   "metadata": {},
   "outputs": [],
   "source": [
    "# preprocess train data\n",
    "process_videos(TRAIN_PATH, TRAIN_PREPROCESSED_PATH, 'train')\n",
    "\n",
    "# preprocess test data\n",
    "#process_videos(TEST_PATH, TEST_PREPROCESSED_PATH, 'test')"
   ]
  },
  {
   "cell_type": "markdown",
   "metadata": {},
   "source": [
    "# Training"
   ]
  },
  {
   "cell_type": "code",
   "execution_count": null,
   "metadata": {},
   "outputs": [],
   "source": [
    "# train model(wandb false)\n",
    "!python run_train.py config/stage.py --stage 1"
   ]
  },
  {
   "cell_type": "markdown",
   "metadata": {},
   "source": [
    "# Test"
   ]
  },
  {
   "cell_type": "code",
   "execution_count": null,
   "metadata": {},
   "outputs": [],
   "source": [
    "!dlfjlsk"
   ]
  }
 ],
 "metadata": {
  "language_info": {
   "name": "python"
  }
 },
 "nbformat": 4,
 "nbformat_minor": 2
}
